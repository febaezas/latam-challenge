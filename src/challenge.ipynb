{
 "cells": [
  {
   "cell_type": "markdown",
   "metadata": {},
   "source": [
    "En este archivo puedes escribir lo que estimes conveniente. Te recomendamos detallar tu solución y todas las suposiciones que estás considerando. Aquí puedes ejecutar las funciones que definiste en los otros archivos de la carpeta src, medir el tiempo, memoria, etc."
   ]
  },
  {
   "cell_type": "markdown",
   "metadata": {},
   "source": [
    "Se uso  %timeit \n",
    " - Se probo cargar directo como read_json promediando ~25 seg\n",
    " - Cargando como archivo y luego json_normalize promedio ~14 seg"
   ]
  },
  {
   "cell_type": "code",
   "execution_count": 1,
   "metadata": {},
   "outputs": [
    {
     "name": "stdout",
     "output_type": "stream",
     "text": [
      "[(Timestamp('2021-02-12 00:00:00+0000', tz='UTC'), 'RanbirS00614606'), (Timestamp('2021-02-13 00:00:00+0000', tz='UTC'), 'MaanDee08215437'), (Timestamp('2021-02-17 00:00:00+0000', tz='UTC'), 'RaaJVinderkaur'), (Timestamp('2021-02-16 00:00:00+0000', tz='UTC'), 'jot__b'), (Timestamp('2021-02-14 00:00:00+0000', tz='UTC'), 'rebelpacifist'), (Timestamp('2021-02-18 00:00:00+0000', tz='UTC'), 'neetuanjle_nitu'), (Timestamp('2021-02-15 00:00:00+0000', tz='UTC'), 'jot__b'), (Timestamp('2021-02-20 00:00:00+0000', tz='UTC'), 'MangalJ23056160'), (Timestamp('2021-02-23 00:00:00+0000', tz='UTC'), 'Surrypuria'), (Timestamp('2021-02-19 00:00:00+0000', tz='UTC'), 'Preetm91')]\n"
     ]
    }
   ],
   "source": [
    "%load_ext memory_profiler\n",
    "## Se considera utilizar CUDA para aprovechar GPU en manejo de pandas dataframes tanto local como docker https://developer.nvidia.com/blog/rapids-cudf-accelerates-pandas-nearly-150x-with-zero-code-changes/\n",
    "# %load_ext cudf.pandas\n",
    "\n",
    "from q1_time import q1_time\n",
    "file_path = \"farmers-protest-tweets-2021-2-4.json\"\n",
    "\n",
    "#%memit a = q1_time(file_path)\n",
    "%memit q1_time(file_path)"
   ]
  },
  {
   "cell_type": "markdown",
   "metadata": {},
   "source": []
  },
  {
   "cell_type": "markdown",
   "metadata": {},
   "source": []
  },
  {
   "cell_type": "code",
   "execution_count": null,
   "metadata": {},
   "outputs": [],
   "source": [
    "%load_ext memory_profiler\n",
    "# %load_ext cudf.pandas\n",
    "\n",
    "from q2_time import q2_time\n",
    "file_path = \"farmers-protest-tweets-2021-2-4.json\"\n",
    "\n",
    "%memit a = q2_time(file_path)"
   ]
  }
 ],
 "metadata": {
  "kernelspec": {
   "display_name": "Python 3",
   "language": "python",
   "name": "python3"
  },
  "language_info": {
   "codemirror_mode": {
    "name": "ipython",
    "version": 3
   },
   "file_extension": ".py",
   "mimetype": "text/x-python",
   "name": "python",
   "nbconvert_exporter": "python",
   "pygments_lexer": "ipython3",
   "version": "3.10.12"
  },
  "orig_nbformat": 4
 },
 "nbformat": 4,
 "nbformat_minor": 2
}
