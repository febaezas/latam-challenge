{
 "cells": [
  {
   "cell_type": "markdown",
   "metadata": {},
   "source": [
    "En este archivo puedes escribir lo que estimes conveniente. Te recomendamos detallar tu solución y todas las suposiciones que estás considerando. Aquí puedes ejecutar las funciones que definiste en los otros archivos de la carpeta src, medir el tiempo, memoria, etc."
   ]
  },
  {
   "cell_type": "markdown",
   "metadata": {},
   "source": [
    "Se uso  %timeit \n",
    " - Se probo cargar directo como read_json promediando ~25 seg\n",
    " - Cargando como archivo y luego json_normalize promedio ~14 seg\n",
    "\n",
    "este acercamiento (lectura completa del archivo y luego trabajar sobre el) era la idea principal a ejecutar en las tareas de tiempo, buscando optimizar y luego al ver opciones para la ejecucion por memoria se intento por chunks o lotes iterando, idea principal para aplica en challenge de consumo de memoria pero tambien efecta el tiempo de ejecucion, se podria revisar en hacer solo por streaming o bajar el chunk size para ver si se optimiza mas ram, pero al ajustarlo demasiado agrandaria el merge con agrupaciones mas inconsistentes.\n",
    "\n",
    "unico q que se mantiene con version \"antigua\" por manejo de json anidados. por arreglar."
   ]
  },
  {
   "cell_type": "code",
   "execution_count": 1,
   "metadata": {},
   "outputs": [
    {
     "name": "stdout",
     "output_type": "stream",
     "text": [
      "[(Timestamp('2021-02-12 00:00:00+0000', tz='UTC'), 'RanbirS00614606'), (Timestamp('2021-02-13 00:00:00+0000', tz='UTC'), 'MaanDee08215437'), (Timestamp('2021-02-17 00:00:00+0000', tz='UTC'), 'RaaJVinderkaur'), (Timestamp('2021-02-16 00:00:00+0000', tz='UTC'), 'jot__b'), (Timestamp('2021-02-14 00:00:00+0000', tz='UTC'), 'rebelpacifist'), (Timestamp('2021-02-18 00:00:00+0000', tz='UTC'), 'neetuanjle_nitu'), (Timestamp('2021-02-15 00:00:00+0000', tz='UTC'), 'jot__b'), (Timestamp('2021-02-20 00:00:00+0000', tz='UTC'), 'MangalJ23056160'), (Timestamp('2021-02-23 00:00:00+0000', tz='UTC'), 'Surrypuria'), (Timestamp('2021-02-19 00:00:00+0000', tz='UTC'), 'Preetm91')]\n"
     ]
    }
   ],
   "source": [
    "%load_ext memory_profiler\n",
    "## Se considera utilizar CUDA para aprovechar GPU en manejo de pandas dataframes tanto local como docker https://developer.nvidia.com/blog/rapids-cudf-accelerates-pandas-nearly-150x-with-zero-code-changes/\n",
    "# %load_ext cudf.pandas\n",
    "\n",
    "from q1_time import q1_time\n",
    "file_path = \"farmers-protest-tweets-2021-2-4.json\"\n",
    "\n",
    "#%memit a = q1_time(file_path)\n",
    "#%memit q1_time(file_path)\n",
    "print (q1_time(file_path))"
   ]
  },
  {
   "cell_type": "markdown",
   "metadata": {},
   "source": [
    "Q1 Memory\n",
    "Cargar"
   ]
  },
  {
   "cell_type": "code",
   "execution_count": 1,
   "metadata": {},
   "outputs": [
    {
     "name": "stdout",
     "output_type": "stream",
     "text": [
      "inicio iteracion\n",
      "                       date        username  q\n",
      "0 2021-02-22 00:00:00+00:00      11Shamsher  1\n",
      "1 2021-02-22 00:00:00+00:00  13navreetsingh  2\n",
      "2 2021-02-22 00:00:00+00:00         1DALBIR  1\n",
      "3 2021-02-22 00:00:00+00:00    1in8billion1  1\n",
      "4 2021-02-22 00:00:00+00:00   1inaMillion08  1\n",
      "                          date        username  q\n",
      "0    2021-02-22 00:00:00+00:00      11Shamsher  1\n",
      "1    2021-02-22 00:00:00+00:00  13navreetsingh  2\n",
      "2    2021-02-22 00:00:00+00:00         1DALBIR  1\n",
      "3    2021-02-22 00:00:00+00:00    1in8billion1  1\n",
      "4    2021-02-22 00:00:00+00:00   1inaMillion08  1\n",
      "...                        ...             ... ..\n",
      "6165 2021-02-24 00:00:00+00:00       yespunjab  2\n",
      "6166 2021-02-24 00:00:00+00:00       ys_dhiman  3\n",
      "6167 2021-02-24 00:00:00+00:00      zia_khan2k  1\n",
      "6168 2021-02-24 00:00:00+00:00    ziaulrahman_  1\n",
      "6169 2021-02-24 00:00:00+00:00         zlz_raa  2\n",
      "\n",
      "[6170 rows x 3 columns]\n",
      "Empty DataFrame\n",
      "Columns: [date, username, q]\n",
      "Index: []\n",
      "                          date        username  q\n",
      "0    2021-02-22 00:00:00+00:00      11Shamsher  1\n",
      "1    2021-02-22 00:00:00+00:00  13navreetsingh  2\n",
      "2    2021-02-22 00:00:00+00:00         1DALBIR  1\n",
      "3    2021-02-22 00:00:00+00:00    1in8billion1  1\n",
      "4    2021-02-22 00:00:00+00:00   1inaMillion08  1\n",
      "...                        ...             ... ..\n",
      "6165 2021-02-24 00:00:00+00:00       yespunjab  2\n",
      "6166 2021-02-24 00:00:00+00:00       ys_dhiman  3\n",
      "6167 2021-02-24 00:00:00+00:00      zia_khan2k  1\n",
      "6168 2021-02-24 00:00:00+00:00    ziaulrahman_  1\n",
      "6169 2021-02-24 00:00:00+00:00         zlz_raa  2\n",
      "\n",
      "[6170 rows x 3 columns]\n",
      "Empty DataFrame\n",
      "Columns: [date, username, q]\n",
      "Index: []\n",
      "                          date        username  q\n",
      "0    2021-02-22 00:00:00+00:00      11Shamsher  1\n",
      "1    2021-02-22 00:00:00+00:00  13navreetsingh  2\n",
      "2    2021-02-22 00:00:00+00:00         1DALBIR  1\n",
      "3    2021-02-22 00:00:00+00:00    1in8billion1  1\n",
      "4    2021-02-22 00:00:00+00:00   1inaMillion08  1\n",
      "...                        ...             ... ..\n",
      "6165 2021-02-24 00:00:00+00:00       yespunjab  2\n",
      "6166 2021-02-24 00:00:00+00:00       ys_dhiman  3\n",
      "6167 2021-02-24 00:00:00+00:00      zia_khan2k  1\n",
      "6168 2021-02-24 00:00:00+00:00    ziaulrahman_  1\n",
      "6169 2021-02-24 00:00:00+00:00         zlz_raa  2\n",
      "\n",
      "[6170 rows x 3 columns]\n",
      "Empty DataFrame\n",
      "Columns: [date, username, q]\n",
      "Index: []\n",
      "                          date        username  q\n",
      "0    2021-02-22 00:00:00+00:00      11Shamsher  1\n",
      "1    2021-02-22 00:00:00+00:00  13navreetsingh  2\n",
      "2    2021-02-22 00:00:00+00:00         1DALBIR  1\n",
      "3    2021-02-22 00:00:00+00:00    1in8billion1  1\n",
      "4    2021-02-22 00:00:00+00:00   1inaMillion08  1\n",
      "...                        ...             ... ..\n",
      "6165 2021-02-24 00:00:00+00:00       yespunjab  2\n",
      "6166 2021-02-24 00:00:00+00:00       ys_dhiman  3\n",
      "6167 2021-02-24 00:00:00+00:00      zia_khan2k  1\n",
      "6168 2021-02-24 00:00:00+00:00    ziaulrahman_  1\n",
      "6169 2021-02-24 00:00:00+00:00         zlz_raa  2\n",
      "\n",
      "[6170 rows x 3 columns]\n",
      "Empty DataFrame\n",
      "Columns: [date, username, q]\n",
      "Index: []\n",
      "                          date        username  q\n",
      "0    2021-02-22 00:00:00+00:00      11Shamsher  1\n",
      "1    2021-02-22 00:00:00+00:00  13navreetsingh  2\n",
      "2    2021-02-22 00:00:00+00:00         1DALBIR  1\n",
      "3    2021-02-22 00:00:00+00:00    1in8billion1  1\n",
      "4    2021-02-22 00:00:00+00:00   1inaMillion08  1\n",
      "...                        ...             ... ..\n",
      "6165 2021-02-24 00:00:00+00:00       yespunjab  2\n",
      "6166 2021-02-24 00:00:00+00:00       ys_dhiman  3\n",
      "6167 2021-02-24 00:00:00+00:00      zia_khan2k  1\n",
      "6168 2021-02-24 00:00:00+00:00    ziaulrahman_  1\n",
      "6169 2021-02-24 00:00:00+00:00         zlz_raa  2\n",
      "\n",
      "[6170 rows x 3 columns]\n",
      "Empty DataFrame\n",
      "Columns: [date, username, q]\n",
      "Index: []\n",
      "                          date        username  q\n",
      "0    2021-02-22 00:00:00+00:00      11Shamsher  1\n",
      "1    2021-02-22 00:00:00+00:00  13navreetsingh  2\n",
      "2    2021-02-22 00:00:00+00:00         1DALBIR  1\n",
      "3    2021-02-22 00:00:00+00:00    1in8billion1  1\n",
      "4    2021-02-22 00:00:00+00:00   1inaMillion08  1\n",
      "...                        ...             ... ..\n",
      "6165 2021-02-24 00:00:00+00:00       yespunjab  2\n",
      "6166 2021-02-24 00:00:00+00:00       ys_dhiman  3\n",
      "6167 2021-02-24 00:00:00+00:00      zia_khan2k  1\n",
      "6168 2021-02-24 00:00:00+00:00    ziaulrahman_  1\n",
      "6169 2021-02-24 00:00:00+00:00         zlz_raa  2\n",
      "\n",
      "[6170 rows x 3 columns]\n",
      "Empty DataFrame\n",
      "Columns: [date, username, q]\n",
      "Index: []\n",
      "                          date        username  q\n",
      "0    2021-02-22 00:00:00+00:00      11Shamsher  1\n",
      "1    2021-02-22 00:00:00+00:00  13navreetsingh  2\n",
      "2    2021-02-22 00:00:00+00:00         1DALBIR  1\n",
      "3    2021-02-22 00:00:00+00:00    1in8billion1  1\n",
      "4    2021-02-22 00:00:00+00:00   1inaMillion08  1\n",
      "...                        ...             ... ..\n",
      "6165 2021-02-24 00:00:00+00:00       yespunjab  2\n",
      "6166 2021-02-24 00:00:00+00:00       ys_dhiman  3\n",
      "6167 2021-02-24 00:00:00+00:00      zia_khan2k  1\n",
      "6168 2021-02-24 00:00:00+00:00    ziaulrahman_  1\n",
      "6169 2021-02-24 00:00:00+00:00         zlz_raa  2\n",
      "\n",
      "[6170 rows x 3 columns]\n",
      "Empty DataFrame\n",
      "Columns: [date, username, q]\n",
      "Index: []\n",
      "                          date        username  q\n",
      "0    2021-02-22 00:00:00+00:00      11Shamsher  1\n",
      "1    2021-02-22 00:00:00+00:00  13navreetsingh  2\n",
      "2    2021-02-22 00:00:00+00:00         1DALBIR  1\n",
      "3    2021-02-22 00:00:00+00:00    1in8billion1  1\n",
      "4    2021-02-22 00:00:00+00:00   1inaMillion08  1\n",
      "...                        ...             ... ..\n",
      "6165 2021-02-24 00:00:00+00:00       yespunjab  2\n",
      "6166 2021-02-24 00:00:00+00:00       ys_dhiman  3\n",
      "6167 2021-02-24 00:00:00+00:00      zia_khan2k  1\n",
      "6168 2021-02-24 00:00:00+00:00    ziaulrahman_  1\n",
      "6169 2021-02-24 00:00:00+00:00         zlz_raa  2\n",
      "\n",
      "[6170 rows x 3 columns]\n",
      "fin iteracion\n",
      "<class 'pandas.core.frame.DataFrame'>\n",
      "suma para agrupar agrupaciones (?)\n",
      "                       date     q2\n",
      "0 2021-02-12 00:00:00+00:00  12347\n",
      "1 2021-02-13 00:00:00+00:00  11296\n",
      "2 2021-02-17 00:00:00+00:00  11087\n",
      "3 2021-02-16 00:00:00+00:00  10443\n",
      "4 2021-02-14 00:00:00+00:00  10249\n",
      "5 2021-02-18 00:00:00+00:00   9625\n",
      "6 2021-02-15 00:00:00+00:00   9197\n",
      "7 2021-02-20 00:00:00+00:00   8502\n",
      "8 2021-02-23 00:00:00+00:00   8417\n",
      "9 2021-02-19 00:00:00+00:00   8204\n",
      "rows dfdate:  10\n",
      "FECHAS\n",
      "FECHAS GROUP\n",
      "                       date     q2\n",
      "0 2021-02-12 00:00:00+00:00  12347\n",
      "1 2021-02-13 00:00:00+00:00  11296\n",
      "2 2021-02-17 00:00:00+00:00  11087\n",
      "3 2021-02-16 00:00:00+00:00  10443\n",
      "4 2021-02-14 00:00:00+00:00  10249\n",
      "rows dfuser:  6170\n",
      "USUARIOS\n",
      "                       date         username    q\n",
      "0 2021-02-23 00:00:00+00:00       Surrypuria  135\n",
      "1 2021-02-23 00:00:00+00:00      ajityadavdu  119\n",
      "2 2021-02-23 00:00:00+00:00  shells_n_petals  119\n",
      "3 2021-02-24 00:00:00+00:00   preetysaini321  107\n",
      "4 2021-02-23 00:00:00+00:00        GurmVicky   99\n",
      "dff\n",
      "   index                      date     q2     username      q\n",
      "0      0 2021-02-12 00:00:00+00:00  12347          NaN    NaN\n",
      "1      1 2021-02-13 00:00:00+00:00  11296          NaN    NaN\n",
      "2      2 2021-02-17 00:00:00+00:00  11087          NaN    NaN\n",
      "3      3 2021-02-16 00:00:00+00:00  10443          NaN    NaN\n",
      "4      4 2021-02-14 00:00:00+00:00  10249          NaN    NaN\n",
      "5      5 2021-02-18 00:00:00+00:00   9625          NaN    NaN\n",
      "6      6 2021-02-15 00:00:00+00:00   9197          NaN    NaN\n",
      "7      7 2021-02-20 00:00:00+00:00   8502          NaN    NaN\n",
      "8      8 2021-02-23 00:00:00+00:00   8417   Surrypuria  135.0\n",
      "9      9 2021-02-23 00:00:00+00:00   8417  ajityadavdu  119.0\n",
      "rows dff:  3232\n"
     ]
    },
    {
     "ename": "KeyError",
     "evalue": "'[nan] not in index'",
     "output_type": "error",
     "traceback": [
      "\u001b[0;31m---------------------------------------------------------------------------\u001b[0m",
      "\u001b[0;31mKeyError\u001b[0m                                  Traceback (most recent call last)",
      "Cell \u001b[0;32mIn[1], line 9\u001b[0m\n\u001b[1;32m      6\u001b[0m file_path \u001b[38;5;241m=\u001b[39m \u001b[38;5;124m\"\u001b[39m\u001b[38;5;124mfarmers-protest-tweets-2021-2-4.json\u001b[39m\u001b[38;5;124m\"\u001b[39m\n\u001b[1;32m      8\u001b[0m \u001b[38;5;66;03m#%memit a = q1_time(file_path)\u001b[39;00m\n\u001b[0;32m----> 9\u001b[0m \u001b[43mget_ipython\u001b[49m\u001b[43m(\u001b[49m\u001b[43m)\u001b[49m\u001b[38;5;241;43m.\u001b[39;49m\u001b[43mrun_line_magic\u001b[49m\u001b[43m(\u001b[49m\u001b[38;5;124;43m'\u001b[39;49m\u001b[38;5;124;43mmemit\u001b[39;49m\u001b[38;5;124;43m'\u001b[39;49m\u001b[43m,\u001b[49m\u001b[43m \u001b[49m\u001b[38;5;124;43m'\u001b[39;49m\u001b[38;5;124;43mq1_memory(file_path)\u001b[39;49m\u001b[38;5;124;43m'\u001b[39;49m\u001b[43m)\u001b[49m\n",
      "File \u001b[0;32m~/.local/lib/python3.10/site-packages/IPython/core/interactiveshell.py:2480\u001b[0m, in \u001b[0;36mInteractiveShell.run_line_magic\u001b[0;34m(self, magic_name, line, _stack_depth)\u001b[0m\n\u001b[1;32m   2478\u001b[0m     kwargs[\u001b[38;5;124m'\u001b[39m\u001b[38;5;124mlocal_ns\u001b[39m\u001b[38;5;124m'\u001b[39m] \u001b[38;5;241m=\u001b[39m \u001b[38;5;28mself\u001b[39m\u001b[38;5;241m.\u001b[39mget_local_scope(stack_depth)\n\u001b[1;32m   2479\u001b[0m \u001b[38;5;28;01mwith\u001b[39;00m \u001b[38;5;28mself\u001b[39m\u001b[38;5;241m.\u001b[39mbuiltin_trap:\n\u001b[0;32m-> 2480\u001b[0m     result \u001b[38;5;241m=\u001b[39m \u001b[43mfn\u001b[49m\u001b[43m(\u001b[49m\u001b[38;5;241;43m*\u001b[39;49m\u001b[43margs\u001b[49m\u001b[43m,\u001b[49m\u001b[43m \u001b[49m\u001b[38;5;241;43m*\u001b[39;49m\u001b[38;5;241;43m*\u001b[39;49m\u001b[43mkwargs\u001b[49m\u001b[43m)\u001b[49m\n\u001b[1;32m   2482\u001b[0m \u001b[38;5;66;03m# The code below prevents the output from being displayed\u001b[39;00m\n\u001b[1;32m   2483\u001b[0m \u001b[38;5;66;03m# when using magics with decorator @output_can_be_silenced\u001b[39;00m\n\u001b[1;32m   2484\u001b[0m \u001b[38;5;66;03m# when the last Python token in the expression is a ';'.\u001b[39;00m\n\u001b[1;32m   2485\u001b[0m \u001b[38;5;28;01mif\u001b[39;00m \u001b[38;5;28mgetattr\u001b[39m(fn, magic\u001b[38;5;241m.\u001b[39mMAGIC_OUTPUT_CAN_BE_SILENCED, \u001b[38;5;28;01mFalse\u001b[39;00m):\n",
      "File \u001b[0;32m~/.local/lib/python3.10/site-packages/memory_profiler.py:1113\u001b[0m, in \u001b[0;36mMemoryProfilerMagics.memit\u001b[0;34m(self, line, cell)\u001b[0m\n\u001b[1;32m   1111\u001b[0m \u001b[38;5;28;01mwhile\u001b[39;00m counter \u001b[38;5;241m<\u001b[39m repeat:\n\u001b[1;32m   1112\u001b[0m     counter \u001b[38;5;241m+\u001b[39m\u001b[38;5;241m=\u001b[39m \u001b[38;5;241m1\u001b[39m\n\u001b[0;32m-> 1113\u001b[0m     tmp \u001b[38;5;241m=\u001b[39m \u001b[43mmemory_usage\u001b[49m\u001b[43m(\u001b[49m\u001b[43m(\u001b[49m\u001b[43m_func_exec\u001b[49m\u001b[43m,\u001b[49m\u001b[43m \u001b[49m\u001b[43m(\u001b[49m\u001b[43mstmt\u001b[49m\u001b[43m,\u001b[49m\u001b[43m \u001b[49m\u001b[38;5;28;43mself\u001b[39;49m\u001b[38;5;241;43m.\u001b[39;49m\u001b[43mshell\u001b[49m\u001b[38;5;241;43m.\u001b[39;49m\u001b[43muser_ns\u001b[49m\u001b[43m)\u001b[49m\u001b[43m)\u001b[49m\u001b[43m,\u001b[49m\n\u001b[1;32m   1114\u001b[0m \u001b[43m                       \u001b[49m\u001b[43mtimeout\u001b[49m\u001b[38;5;241;43m=\u001b[39;49m\u001b[43mtimeout\u001b[49m\u001b[43m,\u001b[49m\u001b[43m \u001b[49m\u001b[43minterval\u001b[49m\u001b[38;5;241;43m=\u001b[39;49m\u001b[43minterval\u001b[49m\u001b[43m,\u001b[49m\n\u001b[1;32m   1115\u001b[0m \u001b[43m                       \u001b[49m\u001b[43mmax_usage\u001b[49m\u001b[38;5;241;43m=\u001b[39;49m\u001b[38;5;28;43;01mTrue\u001b[39;49;00m\u001b[43m,\u001b[49m\u001b[43m \u001b[49m\u001b[43mmax_iterations\u001b[49m\u001b[38;5;241;43m=\u001b[39;49m\u001b[38;5;241;43m1\u001b[39;49m\u001b[43m,\u001b[49m\n\u001b[1;32m   1116\u001b[0m \u001b[43m                       \u001b[49m\u001b[43minclude_children\u001b[49m\u001b[38;5;241;43m=\u001b[39;49m\u001b[43minclude_children\u001b[49m\u001b[43m)\u001b[49m\n\u001b[1;32m   1117\u001b[0m     mem_usage\u001b[38;5;241m.\u001b[39mappend(tmp)\n\u001b[1;32m   1119\u001b[0m result \u001b[38;5;241m=\u001b[39m MemitResult(mem_usage, baseline, repeat, timeout, interval,\n\u001b[1;32m   1120\u001b[0m                      include_children)\n",
      "File \u001b[0;32m~/.local/lib/python3.10/site-packages/memory_profiler.py:379\u001b[0m, in \u001b[0;36mmemory_usage\u001b[0;34m(proc, interval, timeout, timestamps, include_children, multiprocess, max_usage, retval, stream, backend, max_iterations)\u001b[0m\n\u001b[1;32m    376\u001b[0m \u001b[38;5;66;03m# When there is an exception in the \"proc\" - the (spawned) monitoring processes don't get killed.\u001b[39;00m\n\u001b[1;32m    377\u001b[0m \u001b[38;5;66;03m# Therefore, the whole process hangs indefinitely. Here, we are ensuring that the process gets killed!\u001b[39;00m\n\u001b[1;32m    378\u001b[0m \u001b[38;5;28;01mtry\u001b[39;00m:\n\u001b[0;32m--> 379\u001b[0m     returned \u001b[38;5;241m=\u001b[39m \u001b[43mf\u001b[49m\u001b[43m(\u001b[49m\u001b[38;5;241;43m*\u001b[39;49m\u001b[43margs\u001b[49m\u001b[43m,\u001b[49m\u001b[43m \u001b[49m\u001b[38;5;241;43m*\u001b[39;49m\u001b[38;5;241;43m*\u001b[39;49m\u001b[43mkw\u001b[49m\u001b[43m)\u001b[49m\n\u001b[1;32m    380\u001b[0m     parent_conn\u001b[38;5;241m.\u001b[39msend(\u001b[38;5;241m0\u001b[39m)  \u001b[38;5;66;03m# finish timing\u001b[39;00m\n\u001b[1;32m    381\u001b[0m     ret \u001b[38;5;241m=\u001b[39m parent_conn\u001b[38;5;241m.\u001b[39mrecv()\n",
      "File \u001b[0;32m~/.local/lib/python3.10/site-packages/memory_profiler.py:889\u001b[0m, in \u001b[0;36m_func_exec\u001b[0;34m(stmt, ns)\u001b[0m\n\u001b[1;32m    886\u001b[0m \u001b[38;5;28;01mdef\u001b[39;00m \u001b[38;5;21m_func_exec\u001b[39m(stmt, ns):\n\u001b[1;32m    887\u001b[0m     \u001b[38;5;66;03m# helper for magic_memit, just a function proxy for the exec\u001b[39;00m\n\u001b[1;32m    888\u001b[0m     \u001b[38;5;66;03m# statement\u001b[39;00m\n\u001b[0;32m--> 889\u001b[0m     \u001b[43mexec\u001b[49m\u001b[43m(\u001b[49m\u001b[43mstmt\u001b[49m\u001b[43m,\u001b[49m\u001b[43m \u001b[49m\u001b[43mns\u001b[49m\u001b[43m)\u001b[49m\n",
      "File \u001b[0;32m<string>:1\u001b[0m\n",
      "File \u001b[0;32m~/challenge-latam/latam-challenge/src/q1_memory.py:67\u001b[0m, in \u001b[0;36mq1_memory\u001b[0;34m(file_path)\u001b[0m\n\u001b[1;32m     65\u001b[0m \u001b[38;5;28mprint\u001b[39m(\u001b[38;5;124m'\u001b[39m\u001b[38;5;124mrows dff: \u001b[39m\u001b[38;5;124m'\u001b[39m, dff\u001b[38;5;241m.\u001b[39mshape[\u001b[38;5;241m0\u001b[39m])\n\u001b[1;32m     66\u001b[0m idx \u001b[38;5;241m=\u001b[39m dff\u001b[38;5;241m.\u001b[39mgroupby([\u001b[38;5;124m'\u001b[39m\u001b[38;5;124mdate\u001b[39m\u001b[38;5;124m'\u001b[39m])[\u001b[38;5;124m'\u001b[39m\u001b[38;5;124mq\u001b[39m\u001b[38;5;124m'\u001b[39m]\u001b[38;5;241m.\u001b[39midxmax()\n\u001b[0;32m---> 67\u001b[0m dff \u001b[38;5;241m=\u001b[39m \u001b[43mdff\u001b[49m\u001b[38;5;241;43m.\u001b[39;49m\u001b[43mloc\u001b[49m\u001b[43m[\u001b[49m\u001b[43midx\u001b[49m\u001b[43m]\u001b[49m\u001b[38;5;241m.\u001b[39msort_values(by\u001b[38;5;241m=\u001b[39m[\u001b[38;5;124m'\u001b[39m\u001b[38;5;124mq2\u001b[39m\u001b[38;5;124m'\u001b[39m],ascending\u001b[38;5;241m=\u001b[39m\u001b[38;5;28;01mFalse\u001b[39;00m)\n\u001b[1;32m     68\u001b[0m dff \u001b[38;5;241m=\u001b[39m dff[col_output]\n\u001b[1;32m     69\u001b[0m \u001b[38;5;28mprint\u001b[39m(dff\u001b[38;5;241m.\u001b[39mhead(\u001b[38;5;241m10\u001b[39m))\n",
      "File \u001b[0;32m~/.local/lib/python3.10/site-packages/pandas/core/indexing.py:1191\u001b[0m, in \u001b[0;36m_LocationIndexer.__getitem__\u001b[0;34m(self, key)\u001b[0m\n\u001b[1;32m   1189\u001b[0m maybe_callable \u001b[38;5;241m=\u001b[39m com\u001b[38;5;241m.\u001b[39mapply_if_callable(key, \u001b[38;5;28mself\u001b[39m\u001b[38;5;241m.\u001b[39mobj)\n\u001b[1;32m   1190\u001b[0m maybe_callable \u001b[38;5;241m=\u001b[39m \u001b[38;5;28mself\u001b[39m\u001b[38;5;241m.\u001b[39m_check_deprecated_callable_usage(key, maybe_callable)\n\u001b[0;32m-> 1191\u001b[0m \u001b[38;5;28;01mreturn\u001b[39;00m \u001b[38;5;28;43mself\u001b[39;49m\u001b[38;5;241;43m.\u001b[39;49m\u001b[43m_getitem_axis\u001b[49m\u001b[43m(\u001b[49m\u001b[43mmaybe_callable\u001b[49m\u001b[43m,\u001b[49m\u001b[43m \u001b[49m\u001b[43maxis\u001b[49m\u001b[38;5;241;43m=\u001b[39;49m\u001b[43maxis\u001b[49m\u001b[43m)\u001b[49m\n",
      "File \u001b[0;32m~/.local/lib/python3.10/site-packages/pandas/core/indexing.py:1420\u001b[0m, in \u001b[0;36m_LocIndexer._getitem_axis\u001b[0;34m(self, key, axis)\u001b[0m\n\u001b[1;32m   1417\u001b[0m     \u001b[38;5;28;01mif\u001b[39;00m \u001b[38;5;28mhasattr\u001b[39m(key, \u001b[38;5;124m\"\u001b[39m\u001b[38;5;124mndim\u001b[39m\u001b[38;5;124m\"\u001b[39m) \u001b[38;5;129;01mand\u001b[39;00m key\u001b[38;5;241m.\u001b[39mndim \u001b[38;5;241m>\u001b[39m \u001b[38;5;241m1\u001b[39m:\n\u001b[1;32m   1418\u001b[0m         \u001b[38;5;28;01mraise\u001b[39;00m \u001b[38;5;167;01mValueError\u001b[39;00m(\u001b[38;5;124m\"\u001b[39m\u001b[38;5;124mCannot index with multidimensional key\u001b[39m\u001b[38;5;124m\"\u001b[39m)\n\u001b[0;32m-> 1420\u001b[0m     \u001b[38;5;28;01mreturn\u001b[39;00m \u001b[38;5;28;43mself\u001b[39;49m\u001b[38;5;241;43m.\u001b[39;49m\u001b[43m_getitem_iterable\u001b[49m\u001b[43m(\u001b[49m\u001b[43mkey\u001b[49m\u001b[43m,\u001b[49m\u001b[43m \u001b[49m\u001b[43maxis\u001b[49m\u001b[38;5;241;43m=\u001b[39;49m\u001b[43maxis\u001b[49m\u001b[43m)\u001b[49m\n\u001b[1;32m   1422\u001b[0m \u001b[38;5;66;03m# nested tuple slicing\u001b[39;00m\n\u001b[1;32m   1423\u001b[0m \u001b[38;5;28;01mif\u001b[39;00m is_nested_tuple(key, labels):\n",
      "File \u001b[0;32m~/.local/lib/python3.10/site-packages/pandas/core/indexing.py:1360\u001b[0m, in \u001b[0;36m_LocIndexer._getitem_iterable\u001b[0;34m(self, key, axis)\u001b[0m\n\u001b[1;32m   1357\u001b[0m \u001b[38;5;28mself\u001b[39m\u001b[38;5;241m.\u001b[39m_validate_key(key, axis)\n\u001b[1;32m   1359\u001b[0m \u001b[38;5;66;03m# A collection of keys\u001b[39;00m\n\u001b[0;32m-> 1360\u001b[0m keyarr, indexer \u001b[38;5;241m=\u001b[39m \u001b[38;5;28;43mself\u001b[39;49m\u001b[38;5;241;43m.\u001b[39;49m\u001b[43m_get_listlike_indexer\u001b[49m\u001b[43m(\u001b[49m\u001b[43mkey\u001b[49m\u001b[43m,\u001b[49m\u001b[43m \u001b[49m\u001b[43maxis\u001b[49m\u001b[43m)\u001b[49m\n\u001b[1;32m   1361\u001b[0m \u001b[38;5;28;01mreturn\u001b[39;00m \u001b[38;5;28mself\u001b[39m\u001b[38;5;241m.\u001b[39mobj\u001b[38;5;241m.\u001b[39m_reindex_with_indexers(\n\u001b[1;32m   1362\u001b[0m     {axis: [keyarr, indexer]}, copy\u001b[38;5;241m=\u001b[39m\u001b[38;5;28;01mTrue\u001b[39;00m, allow_dups\u001b[38;5;241m=\u001b[39m\u001b[38;5;28;01mTrue\u001b[39;00m\n\u001b[1;32m   1363\u001b[0m )\n",
      "File \u001b[0;32m~/.local/lib/python3.10/site-packages/pandas/core/indexing.py:1558\u001b[0m, in \u001b[0;36m_LocIndexer._get_listlike_indexer\u001b[0;34m(self, key, axis)\u001b[0m\n\u001b[1;32m   1555\u001b[0m ax \u001b[38;5;241m=\u001b[39m \u001b[38;5;28mself\u001b[39m\u001b[38;5;241m.\u001b[39mobj\u001b[38;5;241m.\u001b[39m_get_axis(axis)\n\u001b[1;32m   1556\u001b[0m axis_name \u001b[38;5;241m=\u001b[39m \u001b[38;5;28mself\u001b[39m\u001b[38;5;241m.\u001b[39mobj\u001b[38;5;241m.\u001b[39m_get_axis_name(axis)\n\u001b[0;32m-> 1558\u001b[0m keyarr, indexer \u001b[38;5;241m=\u001b[39m \u001b[43max\u001b[49m\u001b[38;5;241;43m.\u001b[39;49m\u001b[43m_get_indexer_strict\u001b[49m\u001b[43m(\u001b[49m\u001b[43mkey\u001b[49m\u001b[43m,\u001b[49m\u001b[43m \u001b[49m\u001b[43maxis_name\u001b[49m\u001b[43m)\u001b[49m\n\u001b[1;32m   1560\u001b[0m \u001b[38;5;28;01mreturn\u001b[39;00m keyarr, indexer\n",
      "File \u001b[0;32m~/.local/lib/python3.10/site-packages/pandas/core/indexes/base.py:6200\u001b[0m, in \u001b[0;36mIndex._get_indexer_strict\u001b[0;34m(self, key, axis_name)\u001b[0m\n\u001b[1;32m   6197\u001b[0m \u001b[38;5;28;01melse\u001b[39;00m:\n\u001b[1;32m   6198\u001b[0m     keyarr, indexer, new_indexer \u001b[38;5;241m=\u001b[39m \u001b[38;5;28mself\u001b[39m\u001b[38;5;241m.\u001b[39m_reindex_non_unique(keyarr)\n\u001b[0;32m-> 6200\u001b[0m \u001b[38;5;28;43mself\u001b[39;49m\u001b[38;5;241;43m.\u001b[39;49m\u001b[43m_raise_if_missing\u001b[49m\u001b[43m(\u001b[49m\u001b[43mkeyarr\u001b[49m\u001b[43m,\u001b[49m\u001b[43m \u001b[49m\u001b[43mindexer\u001b[49m\u001b[43m,\u001b[49m\u001b[43m \u001b[49m\u001b[43maxis_name\u001b[49m\u001b[43m)\u001b[49m\n\u001b[1;32m   6202\u001b[0m keyarr \u001b[38;5;241m=\u001b[39m \u001b[38;5;28mself\u001b[39m\u001b[38;5;241m.\u001b[39mtake(indexer)\n\u001b[1;32m   6203\u001b[0m \u001b[38;5;28;01mif\u001b[39;00m \u001b[38;5;28misinstance\u001b[39m(key, Index):\n\u001b[1;32m   6204\u001b[0m     \u001b[38;5;66;03m# GH 42790 - Preserve name from an Index\u001b[39;00m\n",
      "File \u001b[0;32m~/.local/lib/python3.10/site-packages/pandas/core/indexes/base.py:6252\u001b[0m, in \u001b[0;36mIndex._raise_if_missing\u001b[0;34m(self, key, indexer, axis_name)\u001b[0m\n\u001b[1;32m   6249\u001b[0m     \u001b[38;5;28;01mraise\u001b[39;00m \u001b[38;5;167;01mKeyError\u001b[39;00m(\u001b[38;5;124mf\u001b[39m\u001b[38;5;124m\"\u001b[39m\u001b[38;5;124mNone of [\u001b[39m\u001b[38;5;132;01m{\u001b[39;00mkey\u001b[38;5;132;01m}\u001b[39;00m\u001b[38;5;124m] are in the [\u001b[39m\u001b[38;5;132;01m{\u001b[39;00maxis_name\u001b[38;5;132;01m}\u001b[39;00m\u001b[38;5;124m]\u001b[39m\u001b[38;5;124m\"\u001b[39m)\n\u001b[1;32m   6251\u001b[0m not_found \u001b[38;5;241m=\u001b[39m \u001b[38;5;28mlist\u001b[39m(ensure_index(key)[missing_mask\u001b[38;5;241m.\u001b[39mnonzero()[\u001b[38;5;241m0\u001b[39m]]\u001b[38;5;241m.\u001b[39munique())\n\u001b[0;32m-> 6252\u001b[0m \u001b[38;5;28;01mraise\u001b[39;00m \u001b[38;5;167;01mKeyError\u001b[39;00m(\u001b[38;5;124mf\u001b[39m\u001b[38;5;124m\"\u001b[39m\u001b[38;5;132;01m{\u001b[39;00mnot_found\u001b[38;5;132;01m}\u001b[39;00m\u001b[38;5;124m not in index\u001b[39m\u001b[38;5;124m\"\u001b[39m)\n",
      "\u001b[0;31mKeyError\u001b[0m: '[nan] not in index'"
     ]
    }
   ],
   "source": [
    "%load_ext memory_profiler\n",
    "## Se considera utilizar CUDA para aprovechar GPU en manejo de pandas dataframes tanto local como docker https://developer.nvidia.com/blog/rapids-cudf-accelerates-pandas-nearly-150x-with-zero-code-changes/\n",
    "# %load_ext cudf.pandas\n",
    "\n",
    "from q1_memory import q1_memory\n",
    "file_path = \"farmers-protest-tweets-2021-2-4.json\"\n",
    "\n",
    "#%memit a = q1_time(file_path)\n",
    "%memit q1_memory(file_path)"
   ]
  },
  {
   "cell_type": "markdown",
   "metadata": {},
   "source": [
    "Q2 Tiempo ejecucion para etraer emojis\n",
    "\n",
    "Se itera la lectura del json file y luego se usa de paquete espeficico para emojis para filtrar y contar cuantas veces aparecen en los comentarios.\n",
    "en teoria una lectura directa del .json es mas rapida que lectura por lotes. pero eso dependera igual de la carga logica (cuanto calculo hare vs el tiempo en cargarlo) y las especificaciones del pc"
   ]
  },
  {
   "cell_type": "code",
   "execution_count": 2,
   "metadata": {},
   "outputs": [
    {
     "name": "stdout",
     "output_type": "stream",
     "text": [
      "The memory_profiler extension is already loaded. To reload it, use:\n",
      "  %reload_ext memory_profiler\n",
      "[('🙏', 5049), ('😂', 3072), ('🚜', 2972), ('🌾', 2182), ('🇮🇳', 2086), ('🤣', 1668), ('✊', 1651), ('❤️', 1382), ('🙏🏻', 1317), ('💚', 1040)]\n",
      "peak memory: 2771.15 MiB, increment: 2328.16 MiB\n"
     ]
    }
   ],
   "source": [
    "%load_ext memory_profiler\n",
    "# %load_ext cudf.pandas\n",
    "\n",
    "from q2_time import q2_time\n",
    "file_path = \"farmers-protest-tweets-2021-2-4.json\"\n",
    "\n",
    "%memit print(q2_time(file_path))"
   ]
  },
  {
   "cell_type": "markdown",
   "metadata": {},
   "source": []
  },
  {
   "cell_type": "code",
   "execution_count": 1,
   "metadata": {},
   "outputs": [
    {
     "name": "stdout",
     "output_type": "stream",
     "text": [
      "[('🙏', 5049), ('😂', 3072), ('🚜', 2972), ('🌾', 2182), ('🇮🇳', 2086), ('🤣', 1668), ('✊', 1651), ('❤️', 1382), ('🙏🏻', 1317), ('💚', 1040)]\n",
      "peak memory: 680.58 MiB, increment: 524.16 MiB\n"
     ]
    }
   ],
   "source": [
    "%load_ext memory_profiler\n",
    "# %load_ext cudf.pandas\n",
    "\n",
    "from q2_memory import q2_memory\n",
    "file_path = \"farmers-protest-tweets-2021-2-4.json\"\n",
    "\n",
    "%memit print(q2_memory(file_path))"
   ]
  },
  {
   "cell_type": "markdown",
   "metadata": {},
   "source": [
    "Q3 usuarios\n",
    "\n",
    "Se usa regex en comentarios para contar interacciones\n",
    "    # Por mejorar:\n",
    "    #   - Se hace conteo solo de menciones en tweets para medir impacto\n",
    "    #     no considera citas para ver efecto cascada del tweet"
   ]
  },
  {
   "cell_type": "code",
   "execution_count": 1,
   "metadata": {},
   "outputs": [
    {
     "name": "stdout",
     "output_type": "stream",
     "text": [
      "inicio iteracion\n",
      "[('narendramodi', 2261), ('Kisanektamorcha', 1836), ('RakeshTikaitBKU', 1639), ('PMOIndia', 1422), ('RahulGandhi', 1125), ('GretaThunberg', 1046), ('RaviSinghKA', 1015), ('rihanna', 972), ('UNHumanRights', 962), ('meenaharris', 925)]\n",
      "peak memory: 693.04 MiB, increment: 541.09 MiB\n"
     ]
    }
   ],
   "source": [
    "%load_ext memory_profiler\n",
    "## Se considera utilizar CUDA para aprovechar GPU en manejo de pandas dataframes tanto local como docker https://developer.nvidia.com/blog/rapids-cudf-accelerates-pandas-nearly-150x-with-zero-code-changes/\n",
    "# %load_ext cudf.pandas\n",
    "\n",
    "from q3_time import q3_time\n",
    "file_path = \"farmers-protest-tweets-2021-2-4.json\"\n",
    "\n",
    "#%memit a = q1_time(file_path)\n",
    "%memit print(q3_time(file_path))"
   ]
  }
 ],
 "metadata": {
  "kernelspec": {
   "display_name": "Python 3",
   "language": "python",
   "name": "python3"
  },
  "language_info": {
   "codemirror_mode": {
    "name": "ipython",
    "version": 3
   },
   "file_extension": ".py",
   "mimetype": "text/x-python",
   "name": "python",
   "nbconvert_exporter": "python",
   "pygments_lexer": "ipython3",
   "version": "3.10.12"
  },
  "orig_nbformat": 4
 },
 "nbformat": 4,
 "nbformat_minor": 2
}
